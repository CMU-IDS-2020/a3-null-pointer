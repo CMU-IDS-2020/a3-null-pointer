{
 "cells": [
  {
   "cell_type": "code",
   "execution_count": 32,
   "metadata": {},
   "outputs": [
    {
     "name": "stderr",
     "output_type": "stream",
     "text": [
      "[nltk_data] Downloading package stopwords to\n",
      "[nltk_data]     /Users/jiechengxu/nltk_data...\n",
      "[nltk_data]   Package stopwords is already up-to-date!\n"
     ]
    },
    {
     "data": {
      "text/plain": [
       "True"
      ]
     },
     "execution_count": 32,
     "metadata": {},
     "output_type": "execute_result"
    }
   ],
   "source": [
    "import gzip\n",
    "import numpy as np\n",
    "import pandas as pd\n",
    "import re\n",
    "import string\n",
    "import nltk\n",
    "nltk.download('stopwords')"
   ]
  },
  {
   "cell_type": "code",
   "execution_count": 33,
   "metadata": {},
   "outputs": [
    {
     "data": {
      "text/html": [
       "<div>\n",
       "<style scoped>\n",
       "    .dataframe tbody tr th:only-of-type {\n",
       "        vertical-align: middle;\n",
       "    }\n",
       "\n",
       "    .dataframe tbody tr th {\n",
       "        vertical-align: top;\n",
       "    }\n",
       "\n",
       "    .dataframe thead th {\n",
       "        text-align: right;\n",
       "    }\n",
       "</style>\n",
       "<table border=\"1\" class=\"dataframe\">\n",
       "  <thead>\n",
       "    <tr style=\"text-align: right;\">\n",
       "      <th></th>\n",
       "      <th>id</th>\n",
       "      <th>link</th>\n",
       "      <th>content</th>\n",
       "      <th>date</th>\n",
       "      <th>retweets</th>\n",
       "      <th>favorites</th>\n",
       "      <th>mentions</th>\n",
       "      <th>hashtags</th>\n",
       "    </tr>\n",
       "  </thead>\n",
       "  <tbody>\n",
       "    <tr>\n",
       "      <th>0</th>\n",
       "      <td>1698308935</td>\n",
       "      <td>https://twitter.com/realDonaldTrump/status/169...</td>\n",
       "      <td>Be sure to tune in and watch Donald Trump on L...</td>\n",
       "      <td>2009-05-04 13:54:25</td>\n",
       "      <td>510</td>\n",
       "      <td>917</td>\n",
       "      <td>NaN</td>\n",
       "      <td>NaN</td>\n",
       "    </tr>\n",
       "    <tr>\n",
       "      <th>1</th>\n",
       "      <td>1701461182</td>\n",
       "      <td>https://twitter.com/realDonaldTrump/status/170...</td>\n",
       "      <td>Donald Trump will be appearing on The View tom...</td>\n",
       "      <td>2009-05-04 20:00:10</td>\n",
       "      <td>34</td>\n",
       "      <td>267</td>\n",
       "      <td>NaN</td>\n",
       "      <td>NaN</td>\n",
       "    </tr>\n",
       "    <tr>\n",
       "      <th>2</th>\n",
       "      <td>1737479987</td>\n",
       "      <td>https://twitter.com/realDonaldTrump/status/173...</td>\n",
       "      <td>Donald Trump reads Top Ten Financial Tips on L...</td>\n",
       "      <td>2009-05-08 08:38:08</td>\n",
       "      <td>13</td>\n",
       "      <td>19</td>\n",
       "      <td>NaN</td>\n",
       "      <td>NaN</td>\n",
       "    </tr>\n",
       "    <tr>\n",
       "      <th>3</th>\n",
       "      <td>1741160716</td>\n",
       "      <td>https://twitter.com/realDonaldTrump/status/174...</td>\n",
       "      <td>New Blog Post: Celebrity Apprentice Finale and...</td>\n",
       "      <td>2009-05-08 15:40:15</td>\n",
       "      <td>11</td>\n",
       "      <td>26</td>\n",
       "      <td>NaN</td>\n",
       "      <td>NaN</td>\n",
       "    </tr>\n",
       "    <tr>\n",
       "      <th>4</th>\n",
       "      <td>1773561338</td>\n",
       "      <td>https://twitter.com/realDonaldTrump/status/177...</td>\n",
       "      <td>\"My persona will never be that of a wallflower...</td>\n",
       "      <td>2009-05-12 09:07:28</td>\n",
       "      <td>1375</td>\n",
       "      <td>1945</td>\n",
       "      <td>NaN</td>\n",
       "      <td>NaN</td>\n",
       "    </tr>\n",
       "  </tbody>\n",
       "</table>\n",
       "</div>"
      ],
      "text/plain": [
       "           id                                               link  \\\n",
       "0  1698308935  https://twitter.com/realDonaldTrump/status/169...   \n",
       "1  1701461182  https://twitter.com/realDonaldTrump/status/170...   \n",
       "2  1737479987  https://twitter.com/realDonaldTrump/status/173...   \n",
       "3  1741160716  https://twitter.com/realDonaldTrump/status/174...   \n",
       "4  1773561338  https://twitter.com/realDonaldTrump/status/177...   \n",
       "\n",
       "                                             content                 date  \\\n",
       "0  Be sure to tune in and watch Donald Trump on L...  2009-05-04 13:54:25   \n",
       "1  Donald Trump will be appearing on The View tom...  2009-05-04 20:00:10   \n",
       "2  Donald Trump reads Top Ten Financial Tips on L...  2009-05-08 08:38:08   \n",
       "3  New Blog Post: Celebrity Apprentice Finale and...  2009-05-08 15:40:15   \n",
       "4  \"My persona will never be that of a wallflower...  2009-05-12 09:07:28   \n",
       "\n",
       "   retweets  favorites mentions hashtags  \n",
       "0       510        917      NaN      NaN  \n",
       "1        34        267      NaN      NaN  \n",
       "2        13         19      NaN      NaN  \n",
       "3        11         26      NaN      NaN  \n",
       "4      1375       1945      NaN      NaN  "
      ]
     },
     "execution_count": 33,
     "metadata": {},
     "output_type": "execute_result"
    }
   ],
   "source": [
    "# read data from ziped data source\n",
    "file_name = 'realdonaldtrump.csv.gz'\n",
    "df = pd.read_csv(file_name, compression='gzip')\n",
    "df.head()"
   ]
  },
  {
   "cell_type": "code",
   "execution_count": 34,
   "metadata": {},
   "outputs": [
    {
     "data": {
      "text/plain": [
       "id               0\n",
       "link             0\n",
       "content          0\n",
       "date             0\n",
       "retweets         0\n",
       "favorites        0\n",
       "mentions     22966\n",
       "hashtags     37769\n",
       "dtype: int64"
      ]
     },
     "execution_count": 34,
     "metadata": {},
     "output_type": "execute_result"
    }
   ],
   "source": [
    "# data integrity \n",
    "df.isna().sum()"
   ]
  },
  {
   "cell_type": "code",
   "execution_count": 35,
   "metadata": {},
   "outputs": [
    {
     "data": {
      "text/html": [
       "<div>\n",
       "<style scoped>\n",
       "    .dataframe tbody tr th:only-of-type {\n",
       "        vertical-align: middle;\n",
       "    }\n",
       "\n",
       "    .dataframe tbody tr th {\n",
       "        vertical-align: top;\n",
       "    }\n",
       "\n",
       "    .dataframe thead th {\n",
       "        text-align: right;\n",
       "    }\n",
       "</style>\n",
       "<table border=\"1\" class=\"dataframe\">\n",
       "  <thead>\n",
       "    <tr style=\"text-align: right;\">\n",
       "      <th></th>\n",
       "      <th>id</th>\n",
       "      <th>content</th>\n",
       "      <th>date</th>\n",
       "      <th>retweets</th>\n",
       "      <th>favorites</th>\n",
       "    </tr>\n",
       "  </thead>\n",
       "  <tbody>\n",
       "    <tr>\n",
       "      <th>0</th>\n",
       "      <td>1698308935</td>\n",
       "      <td>Be sure to tune in and watch Donald Trump on L...</td>\n",
       "      <td>2009-05-04 13:54:25</td>\n",
       "      <td>510</td>\n",
       "      <td>917</td>\n",
       "    </tr>\n",
       "    <tr>\n",
       "      <th>1</th>\n",
       "      <td>1701461182</td>\n",
       "      <td>Donald Trump will be appearing on The View tom...</td>\n",
       "      <td>2009-05-04 20:00:10</td>\n",
       "      <td>34</td>\n",
       "      <td>267</td>\n",
       "    </tr>\n",
       "    <tr>\n",
       "      <th>2</th>\n",
       "      <td>1737479987</td>\n",
       "      <td>Donald Trump reads Top Ten Financial Tips on L...</td>\n",
       "      <td>2009-05-08 08:38:08</td>\n",
       "      <td>13</td>\n",
       "      <td>19</td>\n",
       "    </tr>\n",
       "    <tr>\n",
       "      <th>3</th>\n",
       "      <td>1741160716</td>\n",
       "      <td>New Blog Post: Celebrity Apprentice Finale and...</td>\n",
       "      <td>2009-05-08 15:40:15</td>\n",
       "      <td>11</td>\n",
       "      <td>26</td>\n",
       "    </tr>\n",
       "    <tr>\n",
       "      <th>4</th>\n",
       "      <td>1773561338</td>\n",
       "      <td>\"My persona will never be that of a wallflower...</td>\n",
       "      <td>2009-05-12 09:07:28</td>\n",
       "      <td>1375</td>\n",
       "      <td>1945</td>\n",
       "    </tr>\n",
       "  </tbody>\n",
       "</table>\n",
       "</div>"
      ],
      "text/plain": [
       "           id                                            content  \\\n",
       "0  1698308935  Be sure to tune in and watch Donald Trump on L...   \n",
       "1  1701461182  Donald Trump will be appearing on The View tom...   \n",
       "2  1737479987  Donald Trump reads Top Ten Financial Tips on L...   \n",
       "3  1741160716  New Blog Post: Celebrity Apprentice Finale and...   \n",
       "4  1773561338  \"My persona will never be that of a wallflower...   \n",
       "\n",
       "                  date  retweets  favorites  \n",
       "0  2009-05-04 13:54:25       510        917  \n",
       "1  2009-05-04 20:00:10        34        267  \n",
       "2  2009-05-08 08:38:08        13         19  \n",
       "3  2009-05-08 15:40:15        11         26  \n",
       "4  2009-05-12 09:07:28      1375       1945  "
      ]
     },
     "execution_count": 35,
     "metadata": {},
     "output_type": "execute_result"
    }
   ],
   "source": [
    "df = df.drop(['link','mentions','hashtags'], axis=1)\n",
    "df.head()"
   ]
  },
  {
   "cell_type": "code",
   "execution_count": 36,
   "metadata": {},
   "outputs": [
    {
     "data": {
      "text/plain": [
       "0        Be sure to tune in and watch Donald Trump on L...\n",
       "1        Donald Trump will be appearing on The View tom...\n",
       "2        Donald Trump reads Top Ten Financial Tips on L...\n",
       "3        New Blog Post: Celebrity Apprentice Finale and...\n",
       "4        \"My persona will never be that of a wallflower...\n",
       "                               ...                        \n",
       "43347    Joe Biden was a TOTAL FAILURE in Government. H...\n",
       "43348    Will be interviewed on @ seanhannity tonight a...\n",
       "43349                           pic.twitter.com/3lm1spbU8X\n",
       "43350                           pic.twitter.com/vpCE5MadUz\n",
       "43351                           pic.twitter.com/VLlc0BHW41\n",
       "Name: content, Length: 43352, dtype: object"
      ]
     },
     "execution_count": 36,
     "metadata": {},
     "output_type": "execute_result"
    }
   ],
   "source": [
    "# clean and fix data in content column\n",
    "content = df.content\n",
    "content"
   ]
  },
  {
   "cell_type": "code",
   "execution_count": 37,
   "metadata": {},
   "outputs": [
    {
     "data": {
      "text/plain": [
       "0        be sure to tune in and watch donald trump on l...\n",
       "1        donald trump will be appearing on the view tom...\n",
       "2        donald trump reads top ten financial tips on l...\n",
       "3        new blog post celebrity apprentice finale and ...\n",
       "4        my persona will never be that of a wallflower ...\n",
       "                               ...                        \n",
       "43344                                               true …\n",
       "43345    a great woman her son is looking down from hea...\n",
       "43346    approval rating in the republican party thank you\n",
       "43347    joe biden was a total failure in government he...\n",
       "43348    will be interviewed on seanhannity tonight at ...\n",
       "Name: content, Length: 42940, dtype: object"
      ]
     },
     "execution_count": 37,
     "metadata": {},
     "output_type": "execute_result"
    }
   ],
   "source": [
    "# change line into lower case, remove punctuations, bracekets, urls, and extra space\n",
    "from nltk.corpus import stopwords\n",
    "\n",
    "def clean_line(line):\n",
    "    line = str(line).lower()\n",
    "    line = re.sub('\\[.*?\\]', '', line)\n",
    "    line = re.sub('https?://\\S+|www\\.\\S+', '', line)\n",
    "    line = re.sub('<.*?>+', '', line)\n",
    "    line = re.sub('[%s]' % re.escape(string.punctuation), '', line)\n",
    "    line = re.sub('\\n', '', line)\n",
    "    line = re.sub('\\w*\\d\\w*', '', line)\n",
    "    line = re.sub('\\'','', line)\n",
    "    line = line.strip().split()\n",
    "    return ' '.join(line)\n",
    "\n",
    "df['content'] = df['content'].apply(lambda x: clean_line(x))\n",
    "\n",
    "# remove empty content after preprocessing\n",
    "df = df[df.content != '']\n",
    "df.content"
   ]
  },
  {
   "cell_type": "code",
   "execution_count": 38,
   "metadata": {},
   "outputs": [],
   "source": [
    "from textblob import TextBlob\n",
    "df['sentiment'] = np.array([TextBlob(content).sentiment.polarity for content in df['content']])\n",
    "\n",
    "# round to 2 digits\n",
    "df['sentiment'] = df.sentiment.apply(lambda x: round(x,2))"
   ]
  },
  {
   "cell_type": "code",
   "execution_count": 39,
   "metadata": {},
   "outputs": [
    {
     "name": "stdout",
     "output_type": "stream",
     "text": [
      "obama care is already having a devastating impact on our economy\n",
      "the worst employee in todays trumpvlog\n",
      "you know what is the worst part of barackobamas tuesday speech playing class warfarewe paid for it with our tax dollars\n",
      "the mullahs are laughing at what they think is a very stupid president barackobama has asked for iran to return the drone timetogettough\n",
      "the economy is in terrible shape barackobama is manipulating the job numbers to hide the truth\n",
      "pathetic barackobama did not want to veto keystone himselfso he lobbied the democrats in the senate to defeat it\n",
      "terrible wind farms are provided permits by the us government which causes the programmatic killing of bald eagles\n",
      "just cancelled my subscription to usatoday boring newspaper with no mojomust be losing a fortune founder cont\n",
      "price of corn has jumped over this will cause a jump in food prices perhaps beyond what weve ever seen nasty for the economy\n",
      "pathetic barackobama is sweetening his offer to the taliban read the art of the deal\n"
     ]
    }
   ],
   "source": [
    "# verify the result\n",
    "for i in df['content'][df.sentiment == -1][:10]:\n",
    "    print(i)"
   ]
  },
  {
   "cell_type": "code",
   "execution_count": 40,
   "metadata": {},
   "outputs": [
    {
     "data": {
      "text/html": [
       "<div>\n",
       "<style scoped>\n",
       "    .dataframe tbody tr th:only-of-type {\n",
       "        vertical-align: middle;\n",
       "    }\n",
       "\n",
       "    .dataframe tbody tr th {\n",
       "        vertical-align: top;\n",
       "    }\n",
       "\n",
       "    .dataframe thead th {\n",
       "        text-align: right;\n",
       "    }\n",
       "</style>\n",
       "<table border=\"1\" class=\"dataframe\">\n",
       "  <thead>\n",
       "    <tr style=\"text-align: right;\">\n",
       "      <th></th>\n",
       "      <th>id</th>\n",
       "      <th>content</th>\n",
       "      <th>date</th>\n",
       "      <th>retweets</th>\n",
       "      <th>favorites</th>\n",
       "      <th>sentiment</th>\n",
       "    </tr>\n",
       "  </thead>\n",
       "  <tbody>\n",
       "    <tr>\n",
       "      <th>0</th>\n",
       "      <td>1698308935</td>\n",
       "      <td>be sure to tune in and watch donald trump on l...</td>\n",
       "      <td>2009-05-04 13:54:25</td>\n",
       "      <td>510</td>\n",
       "      <td>917</td>\n",
       "      <td>0.17</td>\n",
       "    </tr>\n",
       "    <tr>\n",
       "      <th>1</th>\n",
       "      <td>1701461182</td>\n",
       "      <td>donald trump will be appearing on the view tom...</td>\n",
       "      <td>2009-05-04 20:00:10</td>\n",
       "      <td>34</td>\n",
       "      <td>267</td>\n",
       "      <td>0.14</td>\n",
       "    </tr>\n",
       "    <tr>\n",
       "      <th>2</th>\n",
       "      <td>1737479987</td>\n",
       "      <td>donald trump reads top ten financial tips on l...</td>\n",
       "      <td>2009-05-08 08:38:08</td>\n",
       "      <td>13</td>\n",
       "      <td>19</td>\n",
       "      <td>0.11</td>\n",
       "    </tr>\n",
       "    <tr>\n",
       "      <th>3</th>\n",
       "      <td>1741160716</td>\n",
       "      <td>new blog post celebrity apprentice finale and ...</td>\n",
       "      <td>2009-05-08 15:40:15</td>\n",
       "      <td>11</td>\n",
       "      <td>26</td>\n",
       "      <td>0.14</td>\n",
       "    </tr>\n",
       "    <tr>\n",
       "      <th>4</th>\n",
       "      <td>1773561338</td>\n",
       "      <td>my persona will never be that of a wallflower ...</td>\n",
       "      <td>2009-05-12 09:07:28</td>\n",
       "      <td>1375</td>\n",
       "      <td>1945</td>\n",
       "      <td>0.00</td>\n",
       "    </tr>\n",
       "    <tr>\n",
       "      <th>...</th>\n",
       "      <td>...</td>\n",
       "      <td>...</td>\n",
       "      <td>...</td>\n",
       "      <td>...</td>\n",
       "      <td>...</td>\n",
       "      <td>...</td>\n",
       "    </tr>\n",
       "    <tr>\n",
       "      <th>43344</th>\n",
       "      <td>1273061883399098368</td>\n",
       "      <td>true …</td>\n",
       "      <td>2020-06-16 20:16:20</td>\n",
       "      <td>26783</td>\n",
       "      <td>154978</td>\n",
       "      <td>0.35</td>\n",
       "    </tr>\n",
       "    <tr>\n",
       "      <th>43345</th>\n",
       "      <td>1273080720794279937</td>\n",
       "      <td>a great woman her son is looking down from hea...</td>\n",
       "      <td>2020-06-16 21:31:11</td>\n",
       "      <td>26468</td>\n",
       "      <td>112140</td>\n",
       "      <td>0.65</td>\n",
       "    </tr>\n",
       "    <tr>\n",
       "      <th>43346</th>\n",
       "      <td>1273095002563006472</td>\n",
       "      <td>approval rating in the republican party thank you</td>\n",
       "      <td>2020-06-16 22:27:56</td>\n",
       "      <td>44472</td>\n",
       "      <td>313534</td>\n",
       "      <td>0.00</td>\n",
       "    </tr>\n",
       "    <tr>\n",
       "      <th>43347</th>\n",
       "      <td>1273405198698975232</td>\n",
       "      <td>joe biden was a total failure in government he...</td>\n",
       "      <td>2020-06-17 19:00:32</td>\n",
       "      <td>23402</td>\n",
       "      <td>116377</td>\n",
       "      <td>-0.16</td>\n",
       "    </tr>\n",
       "    <tr>\n",
       "      <th>43348</th>\n",
       "      <td>1273408026968457216</td>\n",
       "      <td>will be interviewed on seanhannity tonight at ...</td>\n",
       "      <td>2020-06-17 19:11:47</td>\n",
       "      <td>11810</td>\n",
       "      <td>56659</td>\n",
       "      <td>0.40</td>\n",
       "    </tr>\n",
       "  </tbody>\n",
       "</table>\n",
       "<p>42940 rows × 6 columns</p>\n",
       "</div>"
      ],
      "text/plain": [
       "                        id                                            content  \\\n",
       "0               1698308935  be sure to tune in and watch donald trump on l...   \n",
       "1               1701461182  donald trump will be appearing on the view tom...   \n",
       "2               1737479987  donald trump reads top ten financial tips on l...   \n",
       "3               1741160716  new blog post celebrity apprentice finale and ...   \n",
       "4               1773561338  my persona will never be that of a wallflower ...   \n",
       "...                    ...                                                ...   \n",
       "43344  1273061883399098368                                             true …   \n",
       "43345  1273080720794279937  a great woman her son is looking down from hea...   \n",
       "43346  1273095002563006472  approval rating in the republican party thank you   \n",
       "43347  1273405198698975232  joe biden was a total failure in government he...   \n",
       "43348  1273408026968457216  will be interviewed on seanhannity tonight at ...   \n",
       "\n",
       "                      date  retweets  favorites  sentiment  \n",
       "0      2009-05-04 13:54:25       510        917       0.17  \n",
       "1      2009-05-04 20:00:10        34        267       0.14  \n",
       "2      2009-05-08 08:38:08        13         19       0.11  \n",
       "3      2009-05-08 15:40:15        11         26       0.14  \n",
       "4      2009-05-12 09:07:28      1375       1945       0.00  \n",
       "...                    ...       ...        ...        ...  \n",
       "43344  2020-06-16 20:16:20     26783     154978       0.35  \n",
       "43345  2020-06-16 21:31:11     26468     112140       0.65  \n",
       "43346  2020-06-16 22:27:56     44472     313534       0.00  \n",
       "43347  2020-06-17 19:00:32     23402     116377      -0.16  \n",
       "43348  2020-06-17 19:11:47     11810      56659       0.40  \n",
       "\n",
       "[42940 rows x 6 columns]"
      ]
     },
     "execution_count": 40,
     "metadata": {},
     "output_type": "execute_result"
    }
   ],
   "source": [
    "df"
   ]
  },
  {
   "cell_type": "markdown",
   "metadata": {},
   "source": [
    "# Word Count"
   ]
  },
  {
   "cell_type": "code",
   "execution_count": 50,
   "metadata": {},
   "outputs": [
    {
     "data": {
      "text/plain": [
       "realdonaldtrump    8569\n",
       "great              6623\n",
       "trump              4950\n",
       "…                  4045\n",
       "thank              3019\n",
       "                   ... \n",
       "skyeshepard           1\n",
       "policyif              1\n",
       "espndrlou             1\n",
       "baptist               1\n",
       "nsc                   1\n",
       "Length: 40335, dtype: int64"
      ]
     },
     "execution_count": 50,
     "metadata": {},
     "output_type": "execute_result"
    }
   ],
   "source": [
    "word_count = pd.Series(' '.join(df.content).split()).value_counts()\n",
    "stop_set = set(stopwords.words('English'))\n",
    "filtered = [i for i in word_count.index if i not in stop_set]\n",
    "word_count = word_count[filtered]\n",
    "word_count"
   ]
  },
  {
   "cell_type": "code",
   "execution_count": 60,
   "metadata": {},
   "outputs": [
    {
     "name": "stdout",
     "output_type": "stream",
     "text": [
      "             words  count\n",
      "0  realdonaldtrump   8569\n",
      "1            great   6623\n",
      "2            trump   4950\n",
      "3                …   4045\n",
      "4            thank   3019\n"
     ]
    }
   ],
   "source": [
    "# store data file\n",
    "word_count_df = pd.DataFrame(word_count).reset_index()\n",
    "word_count_df.columns = ['words', 'count']\n",
    "print(word_count_df.head())\n",
    "word_count_df.to_csv('word_count.csv')\n",
    "df.to_csv('processed_data.csv')"
   ]
  },
  {
   "cell_type": "code",
   "execution_count": null,
   "metadata": {},
   "outputs": [],
   "source": []
  }
 ],
 "metadata": {
  "kernelspec": {
   "display_name": "Python 3",
   "language": "python",
   "name": "python3"
  },
  "language_info": {
   "codemirror_mode": {
    "name": "ipython",
    "version": 3
   },
   "file_extension": ".py",
   "mimetype": "text/x-python",
   "name": "python",
   "nbconvert_exporter": "python",
   "pygments_lexer": "ipython3",
   "version": "3.8.3"
  }
 },
 "nbformat": 4,
 "nbformat_minor": 4
}
